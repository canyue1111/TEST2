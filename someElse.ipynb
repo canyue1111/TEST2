{
  "nbformat": 4,
  "nbformat_minor": 0,
  "metadata": {
    "colab": {
      "name": "someElse.ipynb",
      "provenance": [],
      "collapsed_sections": [],
      "authorship_tag": "ABX9TyP/QpnGSGzz/Rg6b2GCAfw4"
    },
    "kernelspec": {
      "name": "python3",
      "display_name": "Python 3"
    }
  },
  "cells": [
    {
      "cell_type": "code",
      "metadata": {
        "colab": {
          "base_uri": "https://localhost:8080/"
        },
        "id": "miOOfeV4rMWR",
        "outputId": "fbc78c32-0f7f-4c06-dee1-310266aad8d2"
      },
      "source": [
        "x, y = 50, 60\r\n",
        "print(x/y)"
      ],
      "execution_count": 1,
      "outputs": [
        {
          "output_type": "stream",
          "text": [
            "0.8333333333333334\n"
          ],
          "name": "stdout"
        }
      ]
    }
  ]
}